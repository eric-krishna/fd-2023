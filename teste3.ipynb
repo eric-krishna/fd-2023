{
 "cells": [
  {
   "cell_type": "markdown",
   "metadata": {},
   "source": [
    "### Teste 3\n",
    "\n",
    "Deseja-se prospectar empresas que possuam soluções em *tratamento de água*, principalmente relativas à: *solutions on waste and water, Improve water quality and water efficiency use, water contamination, water for human consumption, water resources*"
   ]
  },
  {
   "cell_type": "markdown",
   "metadata": {},
   "source": [
    "### Imports"
   ]
  },
  {
   "cell_type": "code",
   "execution_count": 1,
   "metadata": {},
   "outputs": [],
   "source": [
    "import re\n",
    "import string\n",
    "import pandas as pd\n",
    "\n",
    "import nltk\n",
    "\n",
    "from nltk.tokenize import RegexpTokenizer\n",
    "from nltk.corpus import stopwords\n",
    "\n",
    "import gensim"
   ]
  },
  {
   "cell_type": "code",
   "execution_count": 2,
   "metadata": {},
   "outputs": [],
   "source": [
    "try:\n",
    "    len(stopwords.words('english'))\n",
    "except:\n",
    "    nltk.download('stopwords')"
   ]
  },
  {
   "cell_type": "code",
   "execution_count": 3,
   "metadata": {},
   "outputs": [],
   "source": [
    "def ajuste_col_coord(s: pd.Series) -> pd.Series:\n",
    "    '''\n",
    "    Corrige leitura da coluna de latitude e longitude dos dados amostra_canada.csv\n",
    "    Input\n",
    "    -----\n",
    "    s: pd.Series com dtype str e registros errados no formato \"<coordenada>;;;;;;;\"\n",
    "    Output\n",
    "    ------\n",
    "    pd.Series com dtype float de mesma dimensão de `s`, mantendo somente dígitos,\n",
    "    \".\" e \"-\", para fazer jus a uma coordenada geográfica.\n",
    "    '''\n",
    "    return (\n",
    "        s.str.replace('[^\\\\d.-]', '', regex=True) #remove tudo que nao eh um digito ou \".\" ou \"-\"\n",
    "        .replace('',None)\n",
    "        .astype(float)\n",
    "    )"
   ]
  },
  {
   "cell_type": "code",
   "execution_count": 4,
   "metadata": {},
   "outputs": [],
   "source": [
    "def remove_pontuacao(sentence: str) -> str:\n",
    "    return sentence.translate(str.maketrans({x: '' for x in string.punctuation}))\n",
    "\n",
    "def remove_numeros(sentence: str) -> str:\n",
    "    return re.sub('[0-9]+', '', sentence)\n",
    "\n",
    "def preprocess(sentence: str) -> str:\n",
    "    sentence = sentence.lower()\n",
    "    sentence = remove_pontuacao(sentence)\n",
    "    sentence = remove_numeros(sentence)\n",
    "    tokenizer = RegexpTokenizer(r'\\w+')\n",
    "    \n",
    "    tokens = tokenizer.tokenize(sentence)\n",
    "    filtered_words = [w for w in tokens if len(w) > 2 if not w in stopwords.words('english')]\n",
    "\n",
    "    return filtered_words"
   ]
  },
  {
   "cell_type": "markdown",
   "metadata": {},
   "source": [
    "### Leitura dataset"
   ]
  },
  {
   "cell_type": "code",
   "execution_count": 5,
   "metadata": {},
   "outputs": [],
   "source": [
    "n_base = pd.read_csv('Planilha.csv', sep=',', usecols=[0] ).shape[0]"
   ]
  },
  {
   "cell_type": "code",
   "execution_count": 6,
   "metadata": {},
   "outputs": [],
   "source": [
    "df = pd.read_csv(\n",
    "    'Planilha.csv', \n",
    "    sep=',', \n",
    "    on_bad_lines='skip'\n",
    ")"
   ]
  },
  {
   "cell_type": "code",
   "execution_count": 7,
   "metadata": {},
   "outputs": [
    {
     "name": "stdout",
     "output_type": "stream",
     "text": [
      "Quantidade de registros tabela completa: `21299` quantidade lida ignorando registros fora do padrão: `20640`\n"
     ]
    }
   ],
   "source": [
    "print(f'Quantidade de registros tabela completa: `{n_base}` quantidade lida ignorando registros fora do padrão: `{df.shape[0]}`')"
   ]
  },
  {
   "cell_type": "code",
   "execution_count": 8,
   "metadata": {},
   "outputs": [
    {
     "name": "stdout",
     "output_type": "stream",
     "text": [
      "<class 'pandas.core.frame.DataFrame'>\n",
      "RangeIndex: 20640 entries, 0 to 20639\n",
      "Data columns (total 8 columns):\n",
      " #   Column                 Non-Null Count  Dtype \n",
      "---  ------                 --------------  ----- \n",
      " 0   name                   20640 non-null  object\n",
      " 1   description            3701 non-null   object\n",
      " 2   employees              3561 non-null   object\n",
      " 3   total_funding          504 non-null    object\n",
      " 4   city                   3699 non-null   object\n",
      " 5   subcountry             3699 non-null   object\n",
      " 6   lat                    3699 non-null   object\n",
      " 7   lng;;;;;;;;;;;;;;;;;;  3543 non-null   object\n",
      "dtypes: object(8)\n",
      "memory usage: 1.3+ MB\n"
     ]
    }
   ],
   "source": [
    "df.info()"
   ]
  },
  {
   "cell_type": "code",
   "execution_count": 9,
   "metadata": {},
   "outputs": [],
   "source": [
    "df.columns = [x.replace(';','') for x in df.columns]"
   ]
  },
  {
   "cell_type": "code",
   "execution_count": 10,
   "metadata": {},
   "outputs": [
    {
     "data": {
      "text/html": [
       "<div>\n",
       "<style scoped>\n",
       "    .dataframe tbody tr th:only-of-type {\n",
       "        vertical-align: middle;\n",
       "    }\n",
       "\n",
       "    .dataframe tbody tr th {\n",
       "        vertical-align: top;\n",
       "    }\n",
       "\n",
       "    .dataframe thead th {\n",
       "        text-align: right;\n",
       "    }\n",
       "</style>\n",
       "<table border=\"1\" class=\"dataframe\">\n",
       "  <thead>\n",
       "    <tr style=\"text-align: right;\">\n",
       "      <th></th>\n",
       "      <th>name</th>\n",
       "      <th>description</th>\n",
       "      <th>employees</th>\n",
       "      <th>total_funding</th>\n",
       "      <th>city</th>\n",
       "      <th>subcountry</th>\n",
       "      <th>lat</th>\n",
       "      <th>lng</th>\n",
       "    </tr>\n",
       "  </thead>\n",
       "  <tbody>\n",
       "    <tr>\n",
       "      <th>1365</th>\n",
       "      <td>sweat free</td>\n",
       "      <td>we are a health tech company solving the probl...</td>\n",
       "      <td>0.0</td>\n",
       "      <td>NaN</td>\n",
       "      <td>waterloo</td>\n",
       "      <td>ontario</td>\n",
       "      <td>43.466874</td>\n",
       "      <td>-80.524635;;;;;;;;;;;;;;;;;;</td>\n",
       "    </tr>\n",
       "    <tr>\n",
       "      <th>14155</th>\n",
       "      <td>dynamic legal solutions â€“ find criminal defe...</td>\n",
       "      <td>dynamic legal is a company in ottawa devoted t...</td>\n",
       "      <td>1.0</td>\n",
       "      <td>NaN</td>\n",
       "      <td>toronto</td>\n",
       "      <td>ontario</td>\n",
       "      <td>43.70011</td>\n",
       "      <td>-79.4163;;;;;;;;;;;;;;;;;;</td>\n",
       "    </tr>\n",
       "    <tr>\n",
       "      <th>11462</th>\n",
       "      <td>zenith marketing &amp;amp; business development</td>\n",
       "      <td>one agency for all your marketing and business...</td>\n",
       "      <td>0.0</td>\n",
       "      <td>-</td>\n",
       "      <td>langley</td>\n",
       "      <td>british columbia</td>\n",
       "      <td>49.10647185</td>\n",
       "      <td>-122.550131156815;;;;;;;;;;;;;;;;;</td>\n",
       "    </tr>\n",
       "    <tr>\n",
       "      <th>6048</th>\n",
       "      <td>frank lending</td>\n",
       "      <td>the loan is a lending platform that offers loa...</td>\n",
       "      <td>1.0</td>\n",
       "      <td>NaN</td>\n",
       "      <td>toronto</td>\n",
       "      <td>ontario</td>\n",
       "      <td>43.700109999999995</td>\n",
       "      <td>-79.4163;;;;;;;;;;;;;;;;;;</td>\n",
       "    </tr>\n",
       "    <tr>\n",
       "      <th>20438</th>\n",
       "      <td>sprott money</td>\n",
       "      <td>sprott money is a leading online precious meta...</td>\n",
       "      <td>50.0</td>\n",
       "      <td>NaN</td>\n",
       "      <td>toronto</td>\n",
       "      <td>ontario</td>\n",
       "      <td>43.70011</td>\n",
       "      <td>-79.4163;;;;;;;;;;;;;;;;;</td>\n",
       "    </tr>\n",
       "  </tbody>\n",
       "</table>\n",
       "</div>"
      ],
      "text/plain": [
       "                                                    name  \\\n",
       "1365                                          sweat free   \n",
       "14155  dynamic legal solutions â€“ find criminal defe...   \n",
       "11462        zenith marketing &amp; business development   \n",
       "6048                                       frank lending   \n",
       "20438                                       sprott money   \n",
       "\n",
       "                                             description employees  \\\n",
       "1365   we are a health tech company solving the probl...       0.0   \n",
       "14155  dynamic legal is a company in ottawa devoted t...       1.0   \n",
       "11462  one agency for all your marketing and business...       0.0   \n",
       "6048   the loan is a lending platform that offers loa...       1.0   \n",
       "20438  sprott money is a leading online precious meta...      50.0   \n",
       "\n",
       "      total_funding      city        subcountry                 lat  \\\n",
       "1365            NaN  waterloo           ontario           43.466874   \n",
       "14155           NaN   toronto           ontario            43.70011   \n",
       "11462             -   langley  british columbia         49.10647185   \n",
       "6048            NaN   toronto           ontario  43.700109999999995   \n",
       "20438           NaN   toronto           ontario            43.70011   \n",
       "\n",
       "                                      lng  \n",
       "1365         -80.524635;;;;;;;;;;;;;;;;;;  \n",
       "14155          -79.4163;;;;;;;;;;;;;;;;;;  \n",
       "11462  -122.550131156815;;;;;;;;;;;;;;;;;  \n",
       "6048           -79.4163;;;;;;;;;;;;;;;;;;  \n",
       "20438           -79.4163;;;;;;;;;;;;;;;;;  "
      ]
     },
     "execution_count": 10,
     "metadata": {},
     "output_type": "execute_result"
    }
   ],
   "source": [
    "df[df['lng'].notna()].sample(5)"
   ]
  },
  {
   "cell_type": "code",
   "execution_count": 11,
   "metadata": {},
   "outputs": [],
   "source": [
    "df['lng'] = ajuste_col_coord(df['lng'])\n",
    "df['lat'] = ajuste_col_coord(df['lat'])"
   ]
  },
  {
   "cell_type": "code",
   "execution_count": 12,
   "metadata": {},
   "outputs": [
    {
     "data": {
      "text/html": [
       "<div>\n",
       "<style scoped>\n",
       "    .dataframe tbody tr th:only-of-type {\n",
       "        vertical-align: middle;\n",
       "    }\n",
       "\n",
       "    .dataframe tbody tr th {\n",
       "        vertical-align: top;\n",
       "    }\n",
       "\n",
       "    .dataframe thead th {\n",
       "        text-align: right;\n",
       "    }\n",
       "</style>\n",
       "<table border=\"1\" class=\"dataframe\">\n",
       "  <thead>\n",
       "    <tr style=\"text-align: right;\">\n",
       "      <th></th>\n",
       "      <th>lat</th>\n",
       "      <th>lng</th>\n",
       "    </tr>\n",
       "  </thead>\n",
       "  <tbody>\n",
       "    <tr>\n",
       "      <th>count</th>\n",
       "      <td>3699.000000</td>\n",
       "      <td>3541.000000</td>\n",
       "    </tr>\n",
       "    <tr>\n",
       "      <th>mean</th>\n",
       "      <td>40.069262</td>\n",
       "      <td>-111.995912</td>\n",
       "    </tr>\n",
       "    <tr>\n",
       "      <th>std</th>\n",
       "      <td>28.053005</td>\n",
       "      <td>1237.018224</td>\n",
       "    </tr>\n",
       "    <tr>\n",
       "      <th>min</th>\n",
       "      <td>-123.369300</td>\n",
       "      <td>-73692.000000</td>\n",
       "    </tr>\n",
       "    <tr>\n",
       "      <th>25%</th>\n",
       "      <td>43.700110</td>\n",
       "      <td>-114.085290</td>\n",
       "    </tr>\n",
       "    <tr>\n",
       "      <th>50%</th>\n",
       "      <td>43.700110</td>\n",
       "      <td>-79.416300</td>\n",
       "    </tr>\n",
       "    <tr>\n",
       "      <th>75%</th>\n",
       "      <td>49.249660</td>\n",
       "      <td>-79.416300</td>\n",
       "    </tr>\n",
       "    <tr>\n",
       "      <th>max</th>\n",
       "      <td>56.726760</td>\n",
       "      <td>-52.709310</td>\n",
       "    </tr>\n",
       "  </tbody>\n",
       "</table>\n",
       "</div>"
      ],
      "text/plain": [
       "               lat           lng\n",
       "count  3699.000000   3541.000000\n",
       "mean     40.069262   -111.995912\n",
       "std      28.053005   1237.018224\n",
       "min    -123.369300 -73692.000000\n",
       "25%      43.700110   -114.085290\n",
       "50%      43.700110    -79.416300\n",
       "75%      49.249660    -79.416300\n",
       "max      56.726760    -52.709310"
      ]
     },
     "execution_count": 12,
     "metadata": {},
     "output_type": "execute_result"
    }
   ],
   "source": [
    "df[['lat','lng']].describe()"
   ]
  },
  {
   "cell_type": "markdown",
   "metadata": {},
   "source": [
    "Quantidade de descrições das empresas muito abaixo do total. Verificando problema na leitura:"
   ]
  },
  {
   "cell_type": "code",
   "execution_count": 13,
   "metadata": {},
   "outputs": [
    {
     "data": {
      "text/plain": [
       "(16939, 8)"
      ]
     },
     "execution_count": 13,
     "metadata": {},
     "output_type": "execute_result"
    }
   ],
   "source": [
    "df[df['description'].isna()].shape"
   ]
  },
  {
   "cell_type": "markdown",
   "metadata": {},
   "source": [
    "#### Tratamento de registros com descrição não lida corretamente"
   ]
  },
  {
   "cell_type": "code",
   "execution_count": 14,
   "metadata": {},
   "outputs": [],
   "source": [
    "errados = df[df['description'].isna()]"
   ]
  },
  {
   "cell_type": "code",
   "execution_count": 15,
   "metadata": {},
   "outputs": [
    {
     "data": {
      "text/html": [
       "<div>\n",
       "<style scoped>\n",
       "    .dataframe tbody tr th:only-of-type {\n",
       "        vertical-align: middle;\n",
       "    }\n",
       "\n",
       "    .dataframe tbody tr th {\n",
       "        vertical-align: top;\n",
       "    }\n",
       "\n",
       "    .dataframe thead th {\n",
       "        text-align: right;\n",
       "    }\n",
       "</style>\n",
       "<table border=\"1\" class=\"dataframe\">\n",
       "  <thead>\n",
       "    <tr style=\"text-align: right;\">\n",
       "      <th></th>\n",
       "      <th>name</th>\n",
       "      <th>description</th>\n",
       "      <th>employees</th>\n",
       "      <th>total_funding</th>\n",
       "      <th>city</th>\n",
       "      <th>subcountry</th>\n",
       "      <th>lat</th>\n",
       "      <th>lng</th>\n",
       "    </tr>\n",
       "  </thead>\n",
       "  <tbody>\n",
       "    <tr>\n",
       "      <th>0</th>\n",
       "      <td>fitin,\"fitin is the latest fit tech platform t...</td>\n",
       "      <td>NaN</td>\n",
       "      <td>NaN</td>\n",
       "      <td>NaN</td>\n",
       "      <td>NaN</td>\n",
       "      <td>NaN</td>\n",
       "      <td>NaN</td>\n",
       "      <td>NaN</td>\n",
       "    </tr>\n",
       "    <tr>\n",
       "      <th>1</th>\n",
       "      <td>quinditech,\"our services include independent &amp;...</td>\n",
       "      <td>NaN</td>\n",
       "      <td>NaN</td>\n",
       "      <td>NaN</td>\n",
       "      <td>NaN</td>\n",
       "      <td>NaN</td>\n",
       "      <td>NaN</td>\n",
       "      <td>NaN</td>\n",
       "    </tr>\n",
       "    <tr>\n",
       "      <th>2</th>\n",
       "      <td>botfirst,\"chatlanding is a digital chatbot pla...</td>\n",
       "      <td>NaN</td>\n",
       "      <td>NaN</td>\n",
       "      <td>NaN</td>\n",
       "      <td>NaN</td>\n",
       "      <td>NaN</td>\n",
       "      <td>NaN</td>\n",
       "      <td>NaN</td>\n",
       "    </tr>\n",
       "  </tbody>\n",
       "</table>\n",
       "</div>"
      ],
      "text/plain": [
       "                                                name description employees  \\\n",
       "0  fitin,\"fitin is the latest fit tech platform t...         NaN       NaN   \n",
       "1  quinditech,\"our services include independent &...         NaN       NaN   \n",
       "2  botfirst,\"chatlanding is a digital chatbot pla...         NaN       NaN   \n",
       "\n",
       "  total_funding city subcountry  lat  lng  \n",
       "0           NaN  NaN        NaN  NaN  NaN  \n",
       "1           NaN  NaN        NaN  NaN  NaN  \n",
       "2           NaN  NaN        NaN  NaN  NaN  "
      ]
     },
     "execution_count": 15,
     "metadata": {},
     "output_type": "execute_result"
    }
   ],
   "source": [
    "errados.head(3)"
   ]
  },
  {
   "cell_type": "code",
   "execution_count": 16,
   "metadata": {},
   "outputs": [],
   "source": [
    "ex_errado_teste = errados.name.values[0]"
   ]
  },
  {
   "cell_type": "code",
   "execution_count": 17,
   "metadata": {},
   "outputs": [
    {
     "data": {
      "text/plain": [
       "'fitin,\"fitin is the latest fit tech platform that provides a professional marketing and booking tool for gyms, studios, independent instructors and personal trainers. customers want a combination of \\'trip advisor\\' and \\'groupon\\', where they can read reviews, check out schedules, browse photos, and bookâ€¦all in one place. gyms and trainers want to be able to fill their classes and schedules. at fitin, we want to connect them and provide the community with a self-sustaining resource that helps everyone. with the wide variety of fitness entrepreneurs out there, we have amazing diversity in our workout options, but they are currently too difficult to find, if you donâ€™t already know where to go â€“ you need to search for hours, reach out to friends and family for referrals that may or may not be a good fit for you. we have over 700 classes already listed in our platform, and we want to be the resource that inspires canadians to just get movingâ€¦no matter what kind of class that may be!\",1.0,nan,toronto,ontario,43.700109999999995,-79.4163;;;;;;;;;;;;;;;;;;'"
      ]
     },
     "execution_count": 17,
     "metadata": {},
     "output_type": "execute_result"
    }
   ],
   "source": [
    "ex_errado_teste"
   ]
  },
  {
   "cell_type": "markdown",
   "metadata": {},
   "source": [
    "Os registros errados ficaram com suas descrições junto ao nome, e aparentemente estão com as aspas indicando o texto correto. \n",
    "\n",
    "Abaixo, vou verificar se quantos registros possuem somente 2 aspas, na esperança de que esse padrão de fato corresponda às descrições dessa tabela."
   ]
  },
  {
   "cell_type": "code",
   "execution_count": 18,
   "metadata": {},
   "outputs": [
    {
     "data": {
      "text/plain": [
       "name\n",
       "2     16048\n",
       "6       634\n",
       "10      132\n",
       "14       45\n",
       "4        39\n",
       "8        12\n",
       "18       11\n",
       "0         5\n",
       "26        4\n",
       "22        3\n",
       "1         2\n",
       "12        2\n",
       "16        1\n",
       "30        1\n",
       "Name: count, dtype: int64"
      ]
     },
     "execution_count": 18,
     "metadata": {},
     "output_type": "execute_result"
    }
   ],
   "source": [
    "errados.name.map(lambda x: len([x for x in list(x) if x == '\"'])).value_counts()"
   ]
  },
  {
   "cell_type": "markdown",
   "metadata": {},
   "source": [
    "A maioria possui somente 2 aspas. Vou usar isso para fazer o parsing dos registros em `errados`"
   ]
  },
  {
   "cell_type": "code",
   "execution_count": 19,
   "metadata": {},
   "outputs": [
    {
     "name": "stderr",
     "output_type": "stream",
     "text": [
      "C:\\Users\\eric.barbosa\\AppData\\Local\\Temp\\ipykernel_18492\\695724686.py:3: SettingWithCopyWarning: \n",
      "A value is trying to be set on a copy of a slice from a DataFrame.\n",
      "Try using .loc[row_indexer,col_indexer] = value instead\n",
      "\n",
      "See the caveats in the documentation: https://pandas.pydata.org/pandas-docs/stable/user_guide/indexing.html#returning-a-view-versus-a-copy\n",
      "  errados['bool_2aspas'] = errados['name'] \\\n"
     ]
    }
   ],
   "source": [
    "# Criando booleano indicando os registros que possuem somente 2 aspas\n",
    "\n",
    "errados['bool_2aspas'] = errados['name'] \\\n",
    "    .map(lambda x: len([x for x in list(x) if x == '\"']) == 2)"
   ]
  },
  {
   "cell_type": "code",
   "execution_count": 20,
   "metadata": {},
   "outputs": [
    {
     "name": "stderr",
     "output_type": "stream",
     "text": [
      "C:\\Users\\eric.barbosa\\AppData\\Local\\Temp\\ipykernel_18492\\1042011603.py:3: SettingWithCopyWarning: \n",
      "A value is trying to be set on a copy of a slice from a DataFrame.\n",
      "Try using .loc[row_indexer,col_indexer] = value instead\n",
      "\n",
      "See the caveats in the documentation: https://pandas.pydata.org/pandas-docs/stable/user_guide/indexing.html#returning-a-view-versus-a-copy\n",
      "  errados.loc[errados['bool_2aspas'], 'desc_aux'] = errados.loc[errados['bool_2aspas'], 'name'] \\\n"
     ]
    }
   ],
   "source": [
    "# Para todos os registros com 2 aspas, coletando descricao por meio do regex \"<qualquer caracter>\"\n",
    "\n",
    "errados.loc[errados['bool_2aspas'], 'desc_aux'] = errados.loc[errados['bool_2aspas'], 'name'] \\\n",
    "    .map(lambda x: re.findall(pattern='\".*\"', string=x)[0].replace('\"',''))"
   ]
  },
  {
   "cell_type": "code",
   "execution_count": 21,
   "metadata": {},
   "outputs": [
    {
     "data": {
      "text/html": [
       "<div>\n",
       "<style scoped>\n",
       "    .dataframe tbody tr th:only-of-type {\n",
       "        vertical-align: middle;\n",
       "    }\n",
       "\n",
       "    .dataframe tbody tr th {\n",
       "        vertical-align: top;\n",
       "    }\n",
       "\n",
       "    .dataframe thead th {\n",
       "        text-align: right;\n",
       "    }\n",
       "</style>\n",
       "<table border=\"1\" class=\"dataframe\">\n",
       "  <thead>\n",
       "    <tr style=\"text-align: right;\">\n",
       "      <th></th>\n",
       "      <th>name</th>\n",
       "      <th>description</th>\n",
       "      <th>employees</th>\n",
       "      <th>total_funding</th>\n",
       "      <th>city</th>\n",
       "      <th>subcountry</th>\n",
       "      <th>lat</th>\n",
       "      <th>lng</th>\n",
       "      <th>bool_2aspas</th>\n",
       "      <th>desc_aux</th>\n",
       "    </tr>\n",
       "  </thead>\n",
       "  <tbody>\n",
       "    <tr>\n",
       "      <th>0</th>\n",
       "      <td>fitin,\"fitin is the latest fit tech platform t...</td>\n",
       "      <td>NaN</td>\n",
       "      <td>NaN</td>\n",
       "      <td>NaN</td>\n",
       "      <td>NaN</td>\n",
       "      <td>NaN</td>\n",
       "      <td>NaN</td>\n",
       "      <td>NaN</td>\n",
       "      <td>True</td>\n",
       "      <td>fitin is the latest fit tech platform that pro...</td>\n",
       "    </tr>\n",
       "    <tr>\n",
       "      <th>1</th>\n",
       "      <td>quinditech,\"our services include independent &amp;...</td>\n",
       "      <td>NaN</td>\n",
       "      <td>NaN</td>\n",
       "      <td>NaN</td>\n",
       "      <td>NaN</td>\n",
       "      <td>NaN</td>\n",
       "      <td>NaN</td>\n",
       "      <td>NaN</td>\n",
       "      <td>True</td>\n",
       "      <td>our services include independent &amp; collaborati...</td>\n",
       "    </tr>\n",
       "  </tbody>\n",
       "</table>\n",
       "</div>"
      ],
      "text/plain": [
       "                                                name description employees  \\\n",
       "0  fitin,\"fitin is the latest fit tech platform t...         NaN       NaN   \n",
       "1  quinditech,\"our services include independent &...         NaN       NaN   \n",
       "\n",
       "  total_funding city subcountry  lat  lng  bool_2aspas  \\\n",
       "0           NaN  NaN        NaN  NaN  NaN         True   \n",
       "1           NaN  NaN        NaN  NaN  NaN         True   \n",
       "\n",
       "                                            desc_aux  \n",
       "0  fitin is the latest fit tech platform that pro...  \n",
       "1  our services include independent & collaborati...  "
      ]
     },
     "execution_count": 21,
     "metadata": {},
     "output_type": "execute_result"
    }
   ],
   "source": [
    "errados.head(2)"
   ]
  },
  {
   "cell_type": "code",
   "execution_count": 22,
   "metadata": {},
   "outputs": [
    {
     "name": "stderr",
     "output_type": "stream",
     "text": [
      "C:\\Users\\eric.barbosa\\AppData\\Local\\Temp\\ipykernel_18492\\109269651.py:3: SettingWithCopyWarning: \n",
      "A value is trying to be set on a copy of a slice from a DataFrame.\n",
      "Try using .loc[row_indexer,col_indexer] = value instead\n",
      "\n",
      "See the caveats in the documentation: https://pandas.pydata.org/pandas-docs/stable/user_guide/indexing.html#returning-a-view-versus-a-copy\n",
      "  errados.loc[errados['bool_2aspas'], 'dados'] = (\n"
     ]
    }
   ],
   "source": [
    "# Criando coluna com os dados restantes da coluna \"name\", substituindo a descrição por 'nan'\n",
    "\n",
    "errados.loc[errados['bool_2aspas'], 'dados'] = (\n",
    "    errados\n",
    "    .loc[errados['bool_2aspas']]\n",
    "    .apply(lambda _df: _df['name'].replace(_df['desc_aux'],'nan'), axis=1)\n",
    ")"
   ]
  },
  {
   "cell_type": "code",
   "execution_count": 23,
   "metadata": {},
   "outputs": [
    {
     "name": "stderr",
     "output_type": "stream",
     "text": [
      "C:\\Users\\eric.barbosa\\AppData\\Local\\Temp\\ipykernel_18492\\3647934005.py:3: SettingWithCopyWarning: \n",
      "A value is trying to be set on a copy of a slice from a DataFrame.\n",
      "Try using .loc[row_indexer,col_indexer] = value instead\n",
      "\n",
      "See the caveats in the documentation: https://pandas.pydata.org/pandas-docs/stable/user_guide/indexing.html#returning-a-view-versus-a-copy\n",
      "  errados.loc[errados['bool_2aspas'], 'dados_split'] = (\n"
     ]
    }
   ],
   "source": [
    "# Splitando dados restantes em coluna com lista das informações\n",
    "\n",
    "errados.loc[errados['bool_2aspas'], 'dados_split'] = (\n",
    "    errados\n",
    "    .loc[errados['bool_2aspas'], 'dados']\n",
    "    .map(lambda x: x.split(','))\n",
    ")"
   ]
  },
  {
   "cell_type": "code",
   "execution_count": 24,
   "metadata": {},
   "outputs": [
    {
     "name": "stderr",
     "output_type": "stream",
     "text": [
      "C:\\Users\\eric.barbosa\\AppData\\Local\\Temp\\ipykernel_18492\\423011998.py:3: SettingWithCopyWarning: \n",
      "A value is trying to be set on a copy of a slice from a DataFrame.\n",
      "Try using .loc[row_indexer,col_indexer] = value instead\n",
      "\n",
      "See the caveats in the documentation: https://pandas.pydata.org/pandas-docs/stable/user_guide/indexing.html#returning-a-view-versus-a-copy\n",
      "  errados.loc[errados['bool_2aspas'], 'dados_len8'] = (\n"
     ]
    }
   ],
   "source": [
    "# Nem todas as informações possuem os 8 campos após o split por \",\". Criando coluna booleana que indica quais estão aderentes\n",
    "\n",
    "errados.loc[errados['bool_2aspas'], 'dados_len8'] = (\n",
    "    errados\n",
    "    .loc[errados['bool_2aspas'], 'dados_split']\n",
    "    .map(len) == 8\n",
    ")"
   ]
  },
  {
   "cell_type": "markdown",
   "metadata": {},
   "source": [
    "#### Criando novo dataframe tratado"
   ]
  },
  {
   "cell_type": "code",
   "execution_count": 25,
   "metadata": {},
   "outputs": [
    {
     "name": "stderr",
     "output_type": "stream",
     "text": [
      "C:\\Users\\eric.barbosa\\AppData\\Local\\Temp\\ipykernel_18492\\649374906.py:3: FutureWarning: Series.__getitem__ treating keys as positions is deprecated. In a future version, integer keys will always be treated as labels (consistent with DataFrame behavior). To access a value by position, use `ser.iloc[pos]`\n",
      "  .apply(lambda x: x[0], axis=1, result_type='expand')\n"
     ]
    },
    {
     "data": {
      "text/html": [
       "<div>\n",
       "<style scoped>\n",
       "    .dataframe tbody tr th:only-of-type {\n",
       "        vertical-align: middle;\n",
       "    }\n",
       "\n",
       "    .dataframe tbody tr th {\n",
       "        vertical-align: top;\n",
       "    }\n",
       "\n",
       "    .dataframe thead th {\n",
       "        text-align: right;\n",
       "    }\n",
       "</style>\n",
       "<table border=\"1\" class=\"dataframe\">\n",
       "  <thead>\n",
       "    <tr style=\"text-align: right;\">\n",
       "      <th></th>\n",
       "      <th>id</th>\n",
       "      <th>name</th>\n",
       "      <th>description</th>\n",
       "      <th>employees</th>\n",
       "      <th>total_funding</th>\n",
       "      <th>city</th>\n",
       "      <th>subcountry</th>\n",
       "      <th>lat</th>\n",
       "      <th>lng</th>\n",
       "    </tr>\n",
       "  </thead>\n",
       "  <tbody>\n",
       "    <tr>\n",
       "      <th>0</th>\n",
       "      <td>0</td>\n",
       "      <td>fitin</td>\n",
       "      <td>fitin is the latest fit tech platform that pro...</td>\n",
       "      <td>1.0</td>\n",
       "      <td>NaN</td>\n",
       "      <td>toronto</td>\n",
       "      <td>ontario</td>\n",
       "      <td>43.70011</td>\n",
       "      <td>-79.41630</td>\n",
       "    </tr>\n",
       "    <tr>\n",
       "      <th>1</th>\n",
       "      <td>1</td>\n",
       "      <td>quinditech</td>\n",
       "      <td>our services include independent &amp; collaborati...</td>\n",
       "      <td>10.0</td>\n",
       "      <td>NaN</td>\n",
       "      <td>montreal</td>\n",
       "      <td>quebec</td>\n",
       "      <td>45.50884</td>\n",
       "      <td>-73.58781</td>\n",
       "    </tr>\n",
       "    <tr>\n",
       "      <th>2</th>\n",
       "      <td>2</td>\n",
       "      <td>botfirst</td>\n",
       "      <td>chatlanding is a digital chatbot platform wher...</td>\n",
       "      <td>1.0</td>\n",
       "      <td>NaN</td>\n",
       "      <td>toronto</td>\n",
       "      <td>ontario</td>\n",
       "      <td>43.70011</td>\n",
       "      <td>-79.41630</td>\n",
       "    </tr>\n",
       "    <tr>\n",
       "      <th>3</th>\n",
       "      <td>4</td>\n",
       "      <td>stylify</td>\n",
       "      <td>stylify is a mobile platform that connects peo...</td>\n",
       "      <td>1.0</td>\n",
       "      <td>NaN</td>\n",
       "      <td>toronto</td>\n",
       "      <td>ontario</td>\n",
       "      <td>43.70011</td>\n",
       "      <td>-79.41630</td>\n",
       "    </tr>\n",
       "    <tr>\n",
       "      <th>4</th>\n",
       "      <td>6</td>\n",
       "      <td>weave travels</td>\n",
       "      <td>weave is a web platform for travel companies. ...</td>\n",
       "      <td>1.0</td>\n",
       "      <td>NaN</td>\n",
       "      <td>toronto</td>\n",
       "      <td>ontario</td>\n",
       "      <td>43.70011</td>\n",
       "      <td>-79.41630</td>\n",
       "    </tr>\n",
       "  </tbody>\n",
       "</table>\n",
       "</div>"
      ],
      "text/plain": [
       "   id           name                                        description  \\\n",
       "0   0          fitin  fitin is the latest fit tech platform that pro...   \n",
       "1   1     quinditech  our services include independent & collaborati...   \n",
       "2   2       botfirst  chatlanding is a digital chatbot platform wher...   \n",
       "3   4        stylify  stylify is a mobile platform that connects peo...   \n",
       "4   6  weave travels  weave is a web platform for travel companies. ...   \n",
       "\n",
       "   employees  total_funding      city subcountry       lat       lng  \n",
       "0        1.0            NaN   toronto    ontario  43.70011 -79.41630  \n",
       "1       10.0            NaN  montreal     quebec  45.50884 -73.58781  \n",
       "2        1.0            NaN   toronto    ontario  43.70011 -79.41630  \n",
       "3        1.0            NaN   toronto    ontario  43.70011 -79.41630  \n",
       "4        1.0            NaN   toronto    ontario  43.70011 -79.41630  "
      ]
     },
     "execution_count": 25,
     "metadata": {},
     "output_type": "execute_result"
    }
   ],
   "source": [
    "dfnew = (\n",
    "    errados.loc[errados['bool_2aspas'] & errados['dados_len8'], ['dados_split']]\n",
    "    .apply(lambda x: x[0], axis=1, result_type='expand')\n",
    ")\n",
    "\n",
    "dfnew.columns=  df.columns.tolist()\n",
    "\n",
    "dfnew['description'] = errados.loc[errados['bool_2aspas'] & errados['dados_len8'], 'desc_aux']\n",
    "\n",
    "dfnew['lat'] = ajuste_col_coord(dfnew['lat'])\n",
    "dfnew['lng'] = ajuste_col_coord(dfnew['lng'])\n",
    "dfnew['employees'] = dfnew['employees'].astype(float)\n",
    "\n",
    "dfnew['total_funding'] = dfnew['total_funding'].str.replace('[^\\d.]','',regex=True).replace('', None).astype(float)\n",
    "\n",
    "dfnew = dfnew.reset_index().rename({'index': 'id'}, axis=1)\n",
    "\n",
    "dfnew.head()"
   ]
  },
  {
   "cell_type": "markdown",
   "metadata": {},
   "source": [
    "### Análise das descrições das empresas"
   ]
  },
  {
   "cell_type": "code",
   "execution_count": 26,
   "metadata": {},
   "outputs": [],
   "source": [
    "descricoes = dfnew.description.map(preprocess).tolist()"
   ]
  },
  {
   "cell_type": "code",
   "execution_count": 27,
   "metadata": {},
   "outputs": [],
   "source": [
    "query_empresa = 'solutions on waste and water, Improve water quality and water efficiency use, water contamination, water for human consumption, water resources'\n",
    "query_prep = preprocess(query_empresa)"
   ]
  },
  {
   "cell_type": "code",
   "execution_count": 28,
   "metadata": {},
   "outputs": [],
   "source": [
    "# Adequando inputs para entrada no modelo Doc2Vec\n",
    "\n",
    "documents = [gensim.models.doc2vec.TaggedDocument(doc, [i]) for i, doc in enumerate(descricoes)]\n",
    "\n",
    "\n",
    "# Aplicando modelo doc2vec com embedding de tamanho 100\n",
    "model = gensim.models.doc2vec.Doc2Vec(\n",
    "    documents, \n",
    "    vector_size=100, \n",
    "    window=2, \n",
    "    min_count=1, \n",
    "    workers=2\n",
    ")"
   ]
  },
  {
   "cell_type": "code",
   "execution_count": 29,
   "metadata": {},
   "outputs": [
    {
     "data": {
      "text/plain": [
       "array([-1.2099103 ,  0.20488884,  1.6075598 ,  0.60702103,  0.4861572 ,\n",
       "       -0.13249396, -0.08792464,  0.14884694,  0.35954314, -0.38573462,\n",
       "        0.27761355, -0.7246184 , -0.4033357 , -0.20843267, -0.02686915,\n",
       "       -0.43054634,  0.15667634, -1.1043056 , -0.04929312, -0.94657904,\n",
       "       -1.5428348 ,  0.41827106,  1.1029675 ,  0.6470845 , -0.8495491 ,\n",
       "        0.513555  ,  0.04651935, -0.0699788 , -0.90964514, -0.00818379,\n",
       "       -0.08633345, -0.8558223 ,  0.11597276,  0.5617644 ,  0.6431451 ,\n",
       "        0.17407823, -0.49140093, -0.35314494, -0.08184387, -0.4925411 ,\n",
       "       -0.44056627, -0.00377058, -0.63031465, -0.52892715,  0.30026174,\n",
       "       -0.35715178, -0.4320588 , -0.5256435 ,  0.1336307 ,  0.83868235,\n",
       "        0.8164649 ,  0.03321948,  0.05149238,  0.6524719 , -0.7681994 ,\n",
       "        0.48252478,  0.8543782 , -0.08985571, -0.2594493 , -0.6908234 ,\n",
       "       -1.6369907 , -0.33920783, -1.5928137 , -0.24471192, -0.09950631,\n",
       "        0.0152641 , -0.2330703 ,  0.207311  , -0.20817344,  0.80937386,\n",
       "        0.04075956, -0.19897096,  1.076178  ,  1.4520754 , -0.6672304 ,\n",
       "        0.12225426, -0.29974315, -0.16863595, -0.29795295,  0.36931843,\n",
       "       -1.1132507 , -0.1674063 ,  0.8740861 ,  0.71371865, -0.0420784 ,\n",
       "        1.2742887 , -0.70886695,  0.01639702,  1.6436113 ,  0.88065714,\n",
       "        0.11441683,  0.3738901 ,  0.16611786, -0.26068234,  1.1860358 ,\n",
       "        0.8894614 , -0.34103176, -0.6058282 , -0.86465526,  1.0751383 ],\n",
       "      dtype=float32)"
      ]
     },
     "execution_count": 29,
     "metadata": {},
     "output_type": "execute_result"
    }
   ],
   "source": [
    "# Exemplo de embedding encontrado\n",
    "\n",
    "model.wv['water']"
   ]
  },
  {
   "cell_type": "code",
   "execution_count": 30,
   "metadata": {},
   "outputs": [],
   "source": [
    "from typing import List\n",
    "\n",
    "def similaridade(\n",
    "        query: str, \n",
    "        model: gensim.models.doc2vec.Doc2Vec, \n",
    "        n_docs: int, \n",
    "        company: pd.DataFrame,\n",
    "        tagged_documents: List[gensim.models.doc2vec.TaggedDocument]\n",
    ") -> pd.DataFrame:\n",
    "    '''\n",
    "    \n",
    "    '''\n",
    "    query_prep = preprocess(query)\n",
    "     \n",
    "    query_emb = model.infer_vector(query_prep)\n",
    "\n",
    "    ret = pd.DataFrame(model.dv.most_similar([query_emb], topn=n_docs), columns=['index','similarity'])\n",
    "\n",
    "    tagget_ret = pd.DataFrame([\n",
    "        (x.tags[0], ' '.join(x.words)) \n",
    "        for x in tagged_documents \n",
    "        if x.tags[0] in ret['index'].tolist()\n",
    "    ], columns=['index','desc'])\n",
    "\n",
    "    return pd.merge(\n",
    "        company[['id','name']].rename({'id': 'index'}, axis=1),\n",
    "        tagget_ret, on='index'\n",
    "    ).merge(ret, on='index')"
   ]
  },
  {
   "cell_type": "code",
   "execution_count": 33,
   "metadata": {},
   "outputs": [],
   "source": [
    "resultado_teste = similaridade(\n",
    "    query_empresa,\n",
    "    model=model,\n",
    "    n_docs=10,\n",
    "    company=dfnew[['id','name']],\n",
    "    tagged_documents=documents\n",
    ")"
   ]
  },
  {
   "cell_type": "code",
   "execution_count": 36,
   "metadata": {},
   "outputs": [
    {
     "data": {
      "text/html": [
       "<div>\n",
       "<style scoped>\n",
       "    .dataframe tbody tr th:only-of-type {\n",
       "        vertical-align: middle;\n",
       "    }\n",
       "\n",
       "    .dataframe tbody tr th {\n",
       "        vertical-align: top;\n",
       "    }\n",
       "\n",
       "    .dataframe thead th {\n",
       "        text-align: right;\n",
       "    }\n",
       "</style>\n",
       "<table border=\"1\" class=\"dataframe\">\n",
       "  <thead>\n",
       "    <tr style=\"text-align: right;\">\n",
       "      <th></th>\n",
       "      <th>index</th>\n",
       "      <th>name</th>\n",
       "      <th>desc</th>\n",
       "      <th>similarity</th>\n",
       "    </tr>\n",
       "  </thead>\n",
       "  <tbody>\n",
       "    <tr>\n",
       "      <th>0</th>\n",
       "      <td>113</td>\n",
       "      <td>advanced analytics and research lab</td>\n",
       "      <td>take recycled materials automotive waste inclu...</td>\n",
       "      <td>0.847569</td>\n",
       "    </tr>\n",
       "    <tr>\n",
       "      <th>8</th>\n",
       "      <td>11277</td>\n",
       "      <td>innovation centric group</td>\n",
       "      <td>livestock water recycling worldâ leading provi...</td>\n",
       "      <td>0.790897</td>\n",
       "    </tr>\n",
       "    <tr>\n",
       "      <th>2</th>\n",
       "      <td>2326</td>\n",
       "      <td>butterfl.ai</td>\n",
       "      <td>homebased scientifictechnological solution mak...</td>\n",
       "      <td>0.789645</td>\n",
       "    </tr>\n",
       "    <tr>\n",
       "      <th>1</th>\n",
       "      <td>1868</td>\n",
       "      <td>just booked</td>\n",
       "      <td>bluedot strives make world safer place infecti...</td>\n",
       "      <td>0.782513</td>\n",
       "    </tr>\n",
       "    <tr>\n",
       "      <th>9</th>\n",
       "      <td>12127</td>\n",
       "      <td>glacier lake resources inc.</td>\n",
       "      <td>data sciences corp medical technology data sci...</td>\n",
       "      <td>0.780849</td>\n",
       "    </tr>\n",
       "    <tr>\n",
       "      <th>5</th>\n",
       "      <td>5756</td>\n",
       "      <td>sage labs</td>\n",
       "      <td>inflatable grow bed systems form channel struc...</td>\n",
       "      <td>0.778983</td>\n",
       "    </tr>\n",
       "    <tr>\n",
       "      <th>6</th>\n",
       "      <td>7070</td>\n",
       "      <td>centschange.com</td>\n",
       "      <td>planetecg pivoting new strategy era big data i...</td>\n",
       "      <td>0.778175</td>\n",
       "    </tr>\n",
       "    <tr>\n",
       "      <th>7</th>\n",
       "      <td>10190</td>\n",
       "      <td>fusionpipe software</td>\n",
       "      <td>blue skyâ association harbour air started aim ...</td>\n",
       "      <td>0.773585</td>\n",
       "    </tr>\n",
       "    <tr>\n",
       "      <th>4</th>\n",
       "      <td>4029</td>\n",
       "      <td>mistplay</td>\n",
       "      <td>hnano provides solutions environmental challen...</td>\n",
       "      <td>0.771325</td>\n",
       "    </tr>\n",
       "    <tr>\n",
       "      <th>3</th>\n",
       "      <td>2499</td>\n",
       "      <td>six club</td>\n",
       "      <td>natural source enhances corporate culture prov...</td>\n",
       "      <td>0.770407</td>\n",
       "    </tr>\n",
       "  </tbody>\n",
       "</table>\n",
       "</div>"
      ],
      "text/plain": [
       "   index                                 name  \\\n",
       "0    113  advanced analytics and research lab   \n",
       "8  11277             innovation centric group   \n",
       "2   2326                          butterfl.ai   \n",
       "1   1868                          just booked   \n",
       "9  12127          glacier lake resources inc.   \n",
       "5   5756                            sage labs   \n",
       "6   7070                      centschange.com   \n",
       "7  10190                  fusionpipe software   \n",
       "4   4029                             mistplay   \n",
       "3   2499                             six club   \n",
       "\n",
       "                                                desc  similarity  \n",
       "0  take recycled materials automotive waste inclu...    0.847569  \n",
       "8  livestock water recycling worldâ leading provi...    0.790897  \n",
       "2  homebased scientifictechnological solution mak...    0.789645  \n",
       "1  bluedot strives make world safer place infecti...    0.782513  \n",
       "9  data sciences corp medical technology data sci...    0.780849  \n",
       "5  inflatable grow bed systems form channel struc...    0.778983  \n",
       "6  planetecg pivoting new strategy era big data i...    0.778175  \n",
       "7  blue skyâ association harbour air started aim ...    0.773585  \n",
       "4  hnano provides solutions environmental challen...    0.771325  \n",
       "3  natural source enhances corporate culture prov...    0.770407  "
      ]
     },
     "execution_count": 36,
     "metadata": {},
     "output_type": "execute_result"
    }
   ],
   "source": [
    "resultado_teste.sort_values(by='similarity', ascending=False)"
   ]
  }
 ],
 "metadata": {
  "kernelspec": {
   "display_name": ".venv",
   "language": "python",
   "name": "python3"
  },
  "language_info": {
   "codemirror_mode": {
    "name": "ipython",
    "version": 3
   },
   "file_extension": ".py",
   "mimetype": "text/x-python",
   "name": "python",
   "nbconvert_exporter": "python",
   "pygments_lexer": "ipython3",
   "version": "3.9.2"
  },
  "orig_nbformat": 4
 },
 "nbformat": 4,
 "nbformat_minor": 2
}
